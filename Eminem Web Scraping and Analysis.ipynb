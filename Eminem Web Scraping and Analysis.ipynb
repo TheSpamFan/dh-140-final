{
 "cells": [
  {
   "cell_type": "code",
   "execution_count": 3,
   "id": "8f1b5bc2",
   "metadata": {},
   "outputs": [],
   "source": [
    "# imports\n",
    "import requests\n",
    "from bs4 import BeautifulSoup\n",
    "import pandas as pd"
   ]
  },
  {
   "cell_type": "code",
   "execution_count": 67,
   "id": "37b294ae",
   "metadata": {},
   "outputs": [
    {
     "data": {
      "text/plain": [
       "<Response [200]>"
      ]
     },
     "execution_count": 67,
     "metadata": {},
     "output_type": "execute_result"
    }
   ],
   "source": [
    "# immediately, a key issue I ran into was networks guarding against scraping via captcha and other anti-robot tools\n",
    "\n",
    "response = requests.get('https://www.eminem.com/lyrics/')\n",
    "response"
   ]
  },
  {
   "cell_type": "code",
   "execution_count": null,
   "id": "6083a414",
   "metadata": {},
   "outputs": [],
   "source": []
  },
  {
   "cell_type": "code",
   "execution_count": 76,
   "id": "5178a401",
   "metadata": {},
   "outputs": [
    {
     "data": {
      "text/plain": [
       "['Music To Be Murdered By - Side B (Deluxe Edition)',\n",
       " 'Music To Be Murdered By',\n",
       " 'Kamikaze',\n",
       " 'Revival',\n",
       " 'The Marshall Mathers LP2',\n",
       " 'Recovery (Deluxe Edition)',\n",
       " 'Recovery',\n",
       " 'Relapse: Refill',\n",
       " 'Relapse (Deluxe Edition)',\n",
       " 'Relapse',\n",
       " 'Eminem Presents The Re-Up',\n",
       " 'Encore',\n",
       " 'The Eminem Show (Explicit Version)',\n",
       " 'The Marshall Mathers LP',\n",
       " 'The Marshall Mathers LP',\n",
       " 'The Slim Shady LP']"
      ]
     },
     "execution_count": 76,
     "metadata": {},
     "output_type": "execute_result"
    }
   ],
   "source": [
    "# List of albums that are either compilations or repeats\n",
    "reject_albums = [\"Curtain Call 2\", \"Curtain Call\", \"The Eminem Show (Expanded Edition)\", \"The Slim Shady LP (Expanded Edition)\"]\n",
    "# allist of Eminem's albums with links to song list\n",
    "html_string = response.text\n",
    "document = BeautifulSoup(html_string, 'html.parser')\n",
    "album_links = []\n",
    "div = document.find_all('div', class_=\"card__information\")\n",
    "for d in div:\n",
    "    span_text = d.find('div', class_='card__info caption-with-letter-spacing h5').find('span').get_text(strip=True)\n",
    "    if 'album' in span_text.lower():\n",
    "      a_tag = d.find('a')\n",
    "      album_title = a_tag.get_text(strip=True)\n",
    "      if album_title not in reject_albums:\n",
    "        album_links.append(album_title)\n",
    "      #album_link = a_tag['href']\n",
    "      #if album_title not in reject_albums and album_link != 'https://www.eminem.com/releases/marshall-mathers-lp-0/':\n",
    "        #album_links.append((album_title, album_link))\n",
    "album_links\n",
    "# album_links is a list of tuples\n",
    "# it is (album title, link to page containing list of songs)"
   ]
  },
  {
   "cell_type": "code",
   "execution_count": 8,
   "id": "a66791a5",
   "metadata": {},
   "outputs": [],
   "source": [
    "response = requests.get(\"https://genius.com/artists/albums?for_artist_page=45&id=Eminem\")\n",
    "html_string = response.text\n",
    "document = BeautifulSoup(html_string, 'html.parser')\n",
    "album_list = document.find_all(\"a\", class_=\"album_link\")\n",
    "albums = [\"The Slim Shady LP\", \"The Marshall Mathers LP\", \"The Eminem Show\",\n",
    "         \"Encore\", \"Eminem Presents the Re-Up\", \"Relapse\", \"Recovery\", \"The Marshall Mathers LP 2\",\n",
    "         \"Revival\", \"Kamikaze\", \"Music to Be Murdered By\", \"Music to Be Murdered By: Side B\", \n",
    "          \"The Death of Slim Shady (Coup De Grâce)\"]\n",
    "album_links = []\n",
    "for a in album_list:\n",
    "  if a.text in albums:\n",
    "    album_links.append((a.text, a['href'])) # album links is (album name, link)\n",
    "    \n"
   ]
  },
  {
   "cell_type": "code",
   "execution_count": 10,
   "id": "088a345c",
   "metadata": {},
   "outputs": [
    {
     "ename": "KeyError",
     "evalue": "0",
     "output_type": "error",
     "traceback": [
      "\u001b[0;31m---------------------------------------------------------------------------\u001b[0m",
      "\u001b[0;31mKeyError\u001b[0m                                  Traceback (most recent call last)",
      "Cell \u001b[0;32mIn[10], line 25\u001b[0m\n\u001b[1;32m     22\u001b[0m       br\u001b[38;5;241m.\u001b[39mreplace_with(\u001b[38;5;124m'\u001b[39m\u001b[38;5;124m \u001b[39m\u001b[38;5;124m'\u001b[39m)\n\u001b[1;32m     23\u001b[0m     eminem_lyrics[album[\u001b[38;5;241m0\u001b[39m]][s_title][\u001b[38;5;124m'\u001b[39m\u001b[38;5;124mlyrics\u001b[39m\u001b[38;5;124m'\u001b[39m] \u001b[38;5;241m=\u001b[39m ly\u001b[38;5;241m.\u001b[39mtext\n\u001b[0;32m---> 25\u001b[0m \u001b[38;5;28mprint\u001b[39m(\u001b[43meminem_lyrics\u001b[49m\u001b[43m[\u001b[49m\u001b[38;5;241;43m0\u001b[39;49m\u001b[43m]\u001b[49m)\n",
      "\u001b[0;31mKeyError\u001b[0m: 0"
     ]
    }
   ],
   "source": [
    "eminem_lyrics = {}\n",
    "\n",
    "for album in album_links:\n",
    "  eminem_lyrics[album[0]] = {}     # each album has a dictionary\n",
    "  album_page = requests.get(\"https://genius.com\" + album[1])\n",
    "  album_html = album_page.text\n",
    "  doc = BeautifulSoup(album_html, 'html.parser')\n",
    "  songs_list = doc.find_all(\"div\", class_=\"chart_row-content\")\n",
    "  \n",
    "  for s in songs_list:\n",
    "    a = s.find('a')\n",
    "    s_title = a.find('h3').get_text(strip=True)\n",
    "    eminem_lyrics[album[0]][s_title] = {}\n",
    "    \n",
    "    s_link = a['href']\n",
    "    # now use the link s_link to go to the lyrics page\n",
    "    lyrics_page = requests.get(s_link)\n",
    "    lyrics_html = lyrics_page.text\n",
    "    d = BeautifulSoup(lyrics_html, 'html.parser')\n",
    "    ly = d.find('div', class_=\"Lyrics__Container-sc-1ynbvzw-1 kUgSbL\")\n",
    "    for br in ly.find_all('br'):\n",
    "      br.replace_with(' ')\n",
    "    eminem_lyrics[album[0]][s_title]['lyrics'] = ly.text"
   ]
  },
  {
   "cell_type": "code",
   "execution_count": 11,
   "id": "798203f7",
   "metadata": {},
   "outputs": [
    {
     "name": "stdout",
     "output_type": "stream",
     "text": [
      "{'Curtains Up (Skit) [Encore]Lyrics': {'lyrics': \"*Crowd cheering* *Eminem humming to himself* *Checking mic*  We still on? *Machinery starting* Yo, is the mic on? Check, check, check, a'ight, it's good, let's go, come on  *Machinery working* *Cheering intensifies* (Eminem, Eminem, Eminem! Eminem, Eminem, Eminem! Eminem, Eminem, Eminem! Eminem, Eminem, Eminem!)\"}, 'Evil DeedsLyrics': {'lyrics': '[Intro] Lord, please forgive me for what I do For I know not what I\\'ve done  [Chorus] Father, please, forgive me for I know not what I do I just never had the chance to ever meet you Therefore I did not know that I would grow to be My mother\\'s evil seed and do these evil deeds  [Verse 1] Momma had a baby and its head popped off Head popped off, head popped off, head popped off, head popped off, head popped off But Momma don\\'t want me, the next thing I know, I\\'m gettin\\' dropped off Gettin\\' dropped off, gettin\\' dropped off, gettin\\' dropped off, gettin\\' dropped off Ring-ring-ring on the doorbell of the next door neighbors, on their front porch Their front porch, their front porch, their front porch, their front porch But they didn\\'t want me neither, so they left me on someone else\\'s lawn Else\\'s lawn, else\\'s lawn, else\\'s lawn \\'Til somebody finally took me in, my great aunt and uncle, Edna and Charles Edna and Charles, Edna and Charles, Edna and Charles, Edna and Charles, they were the ones who were left in charge My elementary, they\\'d gang up on me and sang this song Sang this song, sang this song, sang this song, sang this song It went a little something like: \"Mary had a little lamb, little lamb, little lamb Debbie had a Satan spawn, Satan spawn\" Momma why do they keep sayin\\' this? I just don\\'t understand, understand And, by the way, where\\'s my dad? '}, 'Never Enough (Ft.\\xa050\\xa0Cent & Nate\\xa0Dogg)Lyrics': {'lyrics': \"[Verse 1: Eminem] There's not much you could do or say to phase me People think I'm a little bit crazy I get it from all angles, even occasionally Doc Dre-zie Will have to step in every once in a while to save me To make me stop and think about it 'fore I just say things Sometimes I forget what other people just may think A lot of rappers probably wouldn't know how to take me If they heard some shit, I'd lay the tape 'fore they erased me I may be a little too fast-paced and racy Sometimes the average listener rewinds and plays me Twenty times 'cause I say so many rhymes it may seem Like I'm goin' too fast 'cause my mind is racing And I could give a fuck what category you place me Long as when I'm pushing up daisies And gone as long as you place me amongst one of them greats When I hit the heavenly gates I'll be cool beside Jay-Z For every single die-hard fan who embraced me I'm thankful for the talent in which God gave me And I'm thankful for the environment that he placed me Believe it or not, I thank my mom for how she raised me In the neighborhood daily that jumped and chased me It only made me what I am today, see Regardless of what anybody believes who hates me You ain't gonna make or break me Tryna strip me of my credibility and make me look fake, G You're only gonna be in for a rude awakening 'Cause sooner or later you haters are all gonna face me And when you face me with all the shit you've been saving To say to me, you had all this time to think about it Now don't pussy out and try to about face me 'Cause I've been patiently waiting for the day That we finally meet in the same place to see, \"}, 'Yellow Brick RoadLyrics': {'lyrics': \"[Intro: Morris Casuto, Spiro Agnew, Randy Blazak & Eminem] What we have to do is deal with it when these individuals are young enough, if you will, to be saved, not in a religious sense, but not to constitute what this country at times calls (Yeah) their throwaway children We seem to be approaching (C'mon!) an age of the gross (*Burp*) We all have this idea that we should move up a little bit from our parents' station and each—and each generation should do a little bit better  [Verse 1: Eminem] All right, come on, let's cut the bullshit, enough Let's get it started, let's start addressin' this issue, and open it up Let's take this shit back to the basement and we can discuss Statements that's made on this tape and its whole origin of The music that we all know and love, the music we all enjoy The music you accuse me of tryin' to destroy Let's rewind it to '89 when I was a boy On the East Side of Detroit, crossin' 8 Mile into Warren Into hick territory; I'd like to share a story This is my story, and can't nobody tell it for me You have well informed me, I am well-aware That I don't belong here: you've made that perfectly clear I get my ass kicked damn near everywhere From Bel-Aire shopping center just for stoppin' in there From the black side all the way to the white side Okay, there's a bright side, a day that I might slide You may call it a pass, I call it haulin' my ass Through that patch of grass over them railroad tracks Oh, them railroad tracks, them old railroad tracks Them good old notorious so well known tracks \"}, 'Like Toy SoldiersLyrics': {'lyrics': '[Intro] Step by step, heart to heart Left, right, left, we all fall down  [Chorus: Martika] Step by step, heart to heart Left, right, left, we all fall down Like toy soldiers Bit by bit, torn apart We never win, but the battle wages on For toy soldiers  [Verse 1: Eminem] I\\'m supposed to be the soldier who never blows his composure Even though I hold the weight of the whole world on my shoulders I ain\\'t never s\\'posed to show it, my crew ain\\'t supposed to know it Even if it means goin\\' toe-to-toe with a Benzino It don\\'t matter, I\\'d never drag \\'em in battles that I can handle \\'Less I absolutely have to, I\\'m s\\'posed to set an example I need to be the leader, my crew looks for me to guide \\'em If some shit ever does pop off, I\\'m s\\'posed to be beside \\'em That Ja shit, I tried to squash it, it was too late to stop it There\\'s a certain line you just don\\'t cross and he crossed it I heard him say Hailie\\'s name on a song and I just lost it It was crazy, the shit went way beyond some Jay-Z and Nas shit And even though the battle was won, I feel like we lost it I spent so much energy on it, honestly, I\\'m exhausted And I\\'m so caught in it, I almost feel I\\'m the one who caused it This ain\\'t what I\\'m in hip-hop for, it\\'s not why I got in it That was never my object, for someone to get killed Why would I wanna destroy somethin\\' I helped build? That wasn\\'t my intentions, my intentions were good I went through my whole career without ever mentionin\\' **** And that was just out of respect, for not runnin\\' my mouth And talkin\\' about somethin\\' that I knew nothin\\' about Plus Dre told me, \"Stay out,\" this just wasn\\'t my beef So I did, I just fell back, watched and gritted my teeth While he\\'s all over TV, down-talkin\\' a man Who literally saved my life, like fuck it, I understand This is business, and this shit just isn\\'t none of my business But still knowin\\' the shit could pop off at any minute, \\'cause '}, 'MoshLyrics': {'lyrics': '[Intro] I pledge allegiance to the flag Of the United States of America And to the republic for which it stands (People) One nation, under God, indivisible With liberty and justice for all (It feels so good to be back) (Mosh with me now)  [Verse 1] Scrutinize every word, memorize every line I spit it once, refuel, re-energize, and rewind I give sight to the blind, my insight through the mind I exercise my right to express when I feel it\\'s time It\\'s just all in your mind, what you interpret it as I say to fight, you take it as \"I\\'ma whip someone\\'s ass\" And if you don\\'t understand, don\\'t even bother to ask A father who has grown up with a fatherless past Who has blown up now to rap phenomenon that has Or at least shows no difficulty multitaskin\\' And juggling both, perhaps mastered his craft slash Entrepreneur who\\'s helped launch a few more rap acts Who\\'s had a few obstacles thrown his way through the last half Of his career, typical manure, movin\\' past that Mr. Kiss-His-Ass-Crack, he\\'s a class act Rubber Band Man, yeah, he just snaps back '}, 'PukeLyrics': {'lyrics': \"[Intro] *Eminem pukes into the toilet* *Eminem hocks and spits into the toilet* *Toilet flush* There I go, thinking of you again  [Chorus] You don't know how sick you make me You make me fucking sick to my stomach Every time I think of you I puke You must just not kno-o-o-o-o-o-ow You may not think you do, but you do Every time I think of you I puke  [Verse 1] I was gonna take the time to sit down and write you a little poem But off of the dome would probably be a little more More suitable for this type of song, whoa I got a million reasons off the top of my head that I could think of Sixteen bars just ain't enough to put some ink to So fuck it, I'ma start right here, I'll just be brief, I'm 'Bout to rattle off some of the reasons I knew I shouldn't go and get another tattoo Of you on my arm, but what do I go and do? I go and get another one, now I got two (Ooh-ooh-ooh-ooh-ooh-ooh-ooh) Now I'm sitting here with your name on my skin I can't believe I went and did this stupid shit again My next girlfriend, now her name's gotta be Kim (Shi-i-i-i-i-i-it) If you only knew how much I hated you For every motherfucking thing you've ever put us through Then I wouldn't be standing here crying over you (Boo-oo-oo-oo-oo-oo-hoo) \"}, 'My 1st SingleLyrics': {'lyrics': '[Intro] Oh! Yeah! So much for first single on this one  [Verse 1] Shady\\'s the label, Aftermath is the stable That the horses come out of—erra Of course we\\'re about to stir up Some shit thick as Mrs. Buttersworth\\'s syrup It\\'s the Mr. Picked-on-Christopher-Reeves-just-for-no-reason Other than to—just to tease him \\'Cause he was his biggest (*burp*) fan He used to be Superman, now I\\'m pourin\\' Liquor on the curb in his name for him \"Eminem, you wait \\'til we meet up again, fucker I\\'m kickin\\' your ass for everything you\\'ve ever said!\" It goes one for the money, two for the fuckin\\' show Ready, get set, let\\'s go Here comes the buckin\\' bronco Stompin\\' and stampedin\\' up the damn street like them buffalo Soldiers, I told ya I\\'m \\'bout to blow, so look out below, Geronimo Motherfuckers, it\\'s dominoes, I\\'m on a roll Around and around I go When will I stop? I don\\'t know Tryin\\' to pick up where The Eminem Show left off But I know anything\\'s possible Though I\\'m not gonna top what I sold I\\'m at the top of my game, that shit is not gonna change Long as I got Dr. Dre on my team I\\'ll get away With murder: I\\'m like O.J., he\\'s like my Cochran today We keep the Mark Fuhrman tapes In a safe, locked \\'em away (*slam*) Better watch what you say Just when you thought you were safe Them fuckers got you on tape You swear to God you was playin\\' Whether or not you was little Joshua Gosh, I wish I could\\'ve told you to not do the same \\'Cause one day it could cost you your name '}, 'Paul (Skit) [2004] (Ft.\\xa0Paul\\xa0Rosenberg)Lyrics': {'lyrics': \"[Skit: Paul Rosenberg] Hey Em, it's Paul, uh, listen, I just got a call from the label And you're probably not gonna be surprised but, um Michael Jackson is extremely upset about the Just Lose It video And, um, I mean he's pissed, so I-I don't know what he's gonna do But we gotta talk about how we're gonna handle this Um, oh yeah, anyway, somebody told me that, um They heard a rumor that you got a new gun Um, I know it's probably not true But I just need to talk to you about that So, um, gimme a call\"}, 'Rain ManLyrics': {'lyrics': \"[Intro: Eminem] Yeah Definitely, definitely Definitely dope Definitely Definitely K-Mart Yeah Yeah (*Fart*)  [Verse 1: Eminem] You find me offensive, I find you offensive For finding me offensive, hence, if I should draw the line any fences, if so, to what extents, if Any, should I go? 'Cause it's getting expensive Being on the other side of the courtroom on the defensive They say I cause extensive psychological nerve damage to the brain When I go to lengths this far at other people's expenses I say you're all just too goddamn sensitive It's censorship, and it's downright blasphemous Let's end this shit now, 'cause I won't stand for this And Christopher Reeves won't sit for this neither And let's clear this up too, I ain't got no beef with him either He used to be like a hero to me, I even believe I Had one of those 25-cent stickers on my refri-gerator Right next to Darth Vader And Darth must've put a hex on him for later I feel like it's my fault, 'cause of the way that I stuck him up in between him and Lex Luthor I killed Superman, I killed Super— Man, and how ironic That I'd be the bad guy, kryptonite, the green chronic \"}, 'Big WeenieLyrics': {'lyrics': \"[Intro] I don't understand Why are you being so mean? You're a mean, mean man  [Chorus] You're just jealous of me 'cause you, you just can't do what I do So instead of just admitting it, you walk around and say All kinds of really mean things about me 'Cause you're a meanie, a meanie But it's only 'cause you're just really jealous of me 'Cause I'm what you wanna be, so you just look like an idiot When you say these mean things, 'cause it's too easy to see You're really just a big weenie, big weenie  [Verse 1] Alright, listen, I need you to focus I need you to go dig deep in your mind, this is important We are going to perform an experiment of the sorts I'm going to have to ask you to bear with me for a moment Now I need you to open your mind, your eyes, close 'em You are now about to be placed under my hypnosis For the next four and a half minutes, we are going to explore Into your mind to find out why you're so fucking jealous Now why did they make yoo-hoo? Pippity-kaka-poo-poo Psych, I'm kidding, I just wanted to see if you're still listening Okay, now I need your undivided attention Sir, I have a question, why do I always sense this undeniable tension? From the moment that I enter into the room it gets all quiet and whispers Whenever there's conversation, why am I always mentioned? I've been dying to ask, it's been itching at me, is it just because... \"}, 'Em Calls Paul (Skit) [2004]Lyrics': {'lyrics': '[Spoken: Eminem] Ayo Paul, it\\'s Em I got your call about the Michael Jackson thing And I know that he\\'s not thrilled about the video What, does he wanna be startin\\' somethin\\'? Wow, well, I\\'ll show him who\\'s really bad Paul, the way you make me feel with these calls You should really take a look at the man in the mirror and tell him to beat it, because I won\\'t stop \\'til I get enough Do you remember the time? We were watching the \"Billie Jean\" video Well, he\\'ll always be that Michael to me and it doesn\\'t matter if he\\'s black or white because I can\\'t stop loving him And I hate plastic surgeons, and I hope they all fucking die How do you like that? And I like him, I like him a lot I wanna\\' touch him, but I can\\'t Excuse me, I\\'m taking a shit, sorry Anyways, call me back I have this idea about how I want to end the show So, hit me when you get this message, fucker Oh, and by the way, no, I don\\'t have a new gun (God damn it)'}, 'Just Lose ItLyrics': {'lyrics': '[Intro] Down, down, down Down, down, down Down, down, down Down, okay Guess who\\'s back, back again Shady\\'s back, tell a friend Now everyone report to the dance floor To the dance floor, to the dance floor Now everyone report to the dance floor Alright, stop, pajama time  [Verse 1] Come here, little kiddies, on my lap Guess who\\'s back with a brand-new rap? And I don\\'t mean \"rap\" as in a new case Of child molestation accusations Ah-ah-ah-ah-ah, no worries Papa\\'s got a brand-new bag of toys What else could I possibly do to make noise? I done touched on everything but little boys And that\\'s not a stab at Michael That\\'s just a metaphor, I\\'m just psycho I go a little bit crazy sometimes I get a little bit out of control with my rhymes Good God, dip, do a little slide Bend down, touch your toes, and just glide Up the center of the dance floor Like TP for my bung-hole And it\\'s cool if you let one go Nobody\\'s gonna know, who\\'d hear it? Give a little poot-poot, it\\'s okay Oops, my CD just skipped And everyone just heard you let one rip '}, 'Ass Like ThatLyrics': {'lyrics': '[Intro] Ow, baby  [Chorus] The way you shake it, I can\\'t believe it I ain\\'t never seen an ass like that The way you move it, you make my pee-pee go D-doing, doing, doing I don\\'t believe it, it\\'s almost too good to be true I ain\\'t never seen an ass like that The way you move it, you make my pee-pee go D-doing, doing, doing  [Verse 1] The way she moves, she\\'s like a belly dancer She\\'s shaking that ass to the new Nelly jams, I Think someone\\'s at the door, but I don\\'t think I\\'ma answer Police saying \"freeze,\" (Oh), d-doing, doing, doing What do you mean, freeze? Please, I\\'m a human being, I have needs I\\'m not done, not \\'til I\\'m finished peeing I am not resisting arrest, I am agreeing Mr. Officer, I\\'m already on my knees I can\\'t get on the ground any further, it\\'s impossible for me And do not treat me like a murderer, I just like to pee Pee, pee, yes, I make R&B I sing song, it go ring-a-chong, a-ching-chong-chong-chong-ching Psych, I joke, I joke, I kid, I kid If I offend, I\\'m sorry, please, please, forgive For I am Triumph the Puppet Dog, I am a mere puppet I can get away with anything I say and you will love it '}, 'Spend Some Time (Ft.\\xa050\\xa0Cent, Obie\\xa0Trice & Stat\\xa0Quo)Lyrics': {'lyrics': \"[Intro: Eminem] If there's any bitches in this room Then there's somethin' I gotta say For all the fools who fell for the first girl who comes their way I've been down that road And now I'm back, sittin' on square one Tryin' to pick myself up where I started from  [Verse 1: Obie Trice] I never woulda thought that I'd see you out of control Even though my penis was deep down in your hole You should know, between us, we was like mates of soul Nothin' could intervene us, especially no hoes You was more so the chalant type I chose 'Til more shows, haunted you nights, I suppose That's how it go: with time spent, emotion grows In the beginning friends, we decided to roll So who's responsible when you get excited, explode And Obie's grinnin', then you invite that Obie's cold But bitches they gon' talk, niggas they gon' hate We established this way before we became mates So what's required is that you chill with all that fire Get your desire when I retire and—  [Chorus: Dina Rae & Eminem] Spend some time with me, say that you'll be mine (Ha-ha) I never thought I'd find someone to be mine Lord knows I was right, ‘cause you just crossed the line Spend some time with me, say that you'll be mine \"}, 'MockingbirdLyrics': {'lyrics': \"[Intro] Yeah I know sometimes Things may not always make sense to you right now But hey What Daddy always tell you? Straighten up, little soldier Stiffen up that upper lip What you cryin' about? You got me  [Verse 1] Hailie, I know you miss your Mom, and I know you miss your Dad When I'm gone, but I'm tryin' to give you the life that I never had I can see you're sad, even when you smile, even when you laugh I can see it in your eyes, deep inside you wanna cry 'Cause you're scared, I ain't there, Daddy's wit' you in your prayers No more cryin', wipe them tears, Daddy's here, no more nightmares We gon' pull together through it, we gon' do it Lainie, Uncle's crazy, ain't he? Yeah, but he loves you, girl, and you better know it We're all we got in this world when it spins, when it swirls When it whirls, when it twirls, two little beautiful girls Lookin' puzzled, in a daze, I know it's confusin' you Daddy's always on the move, Mama's always on the news I try to keep you sheltered from it, but somehow it seems The harder that I try to do that, the more it backfires on me All the things growin' up as Daddy that he had to see Daddy don't want you to see, but you see just as much as he did We did not plan it to be this way, your mother and me But things have got so bad between us, I don't see us ever bein' Together ever again, like we used to be when we was teenagers But then, of course, everything always happens for a reason I guess it was never meant to be But it's just somethin' we have no control over, and that's what destiny is But no more worries, rest your head and go to sleep Maybe one day we'll wake up and this'll all just be a dream \"}, 'Crazy in LoveLyrics': {'lyrics': '[Intro: Heart] Tell myself that I was doing alright There\\'s nothing left to do tonight But go crazy on you Crazy on you Let me go crazy, crazy on you, oh  [Verse 1] Can\\'t you see what you do to me, baby? You make me crazy, you make me act like a maniac I\\'m like a lunatic, you make me sick You\\'re truly the only one who can do this to me You just make me get so crazy I go schizo, I get so insane, I just go schizophrenic One minute I wanna slit your throat, the next I wanna sex You make me crazy, the way we act Like two maniacs in the sack We fuck like two jackrabbits And maybe that\\'s a bad habit \\'Cause the next day we\\'re right back at it In the same exact pattern What the fuck is the matter with us? We can\\'t figure out if it\\'s lust or it\\'s love What\\'s that that\\'s attractin\\' us to each other? They say that every man grows up to marry his own mother Which would explain why you\\'re such a motherfuckin\\' bitch But I stay and still stick it out with you Even though I just hit you today But you deserve it, you hit me first and provoked me to choke you Just \\'cause I came home late last night Crawled in bed and I woke you But if there\\'s one thing about you that I admire it\\'s, baby Because you stay with me, maybe \\'cause you\\'re as crazy as I am \\'Cause when I look at you I can see an angel in your eyes But if I look deeper inside I see your freakish little side Like a devil in disguise, you\\'re always full of surprises Always pullin\\' devices out your purse: little vibrators and dildoes You fucked yourself so much you barely feel those anymore You\\'re only 24, but you\\'re plenty more ma-ture Than those other little hoes who just act like little girls Like they\\'re in middle school still You\\'re crazy, sexy, cool, chill And you play your position, you never step outta line Even though I stay in your business you\\'ve always kept outta mine I wonder what\\'s on your mind Sometimes they say, \"love is blind\" Maybe that\\'s why the first time I dotted your eye you ain\\'t see the sign Or maybe you did, maybe you like being shoved Maybe \\'cause we\\'re crazy in love '}, 'One Shot 2 Shot (Ft.\\xa0D12)Lyrics': {'lyrics': \"[Intro: Fatt Father] I told y'all, motherfuckers, I was coming back (Oh, shit) What now, nigga? What now? What? Brewster Projects, nigga  [Chorus: Eminem] One shot, two shot, three shots, four shots All I hear is gunshots, this is where the fun stops Bodies drop, hit the floor, music's off, party stops Everybody hit the door, somebody's licking shots off  [Verse 1: Bizarre] Security's gone, I'm trapped in the club And I'm trying to run and get my motherfucking gun (Nigga, what about yo' wife?) Nigga, fuck my wife I'm trying to run and save my motherfucking life Oh, shit! The shooter's coming Bitches hollering, niggas running People, shot all over the floor And I'm trying to make it to the Saint Andrew's door *Shot* That's the sound of the Glock Even DJ House Shoes fucked around and got shot I done messed around and forgot my TEC I don't see nobody, but Fatt Father and Hex  [Verse 2: Kuniva & Eminem] (Kuniva, you alright?) These niggas is tripping (Where's Bizarre at?) (I don't know, man) I'm trying to slip through the exit and get to where my car is at Bitches screaming everywhere, and niggas is wylin' Two minutes ago, we was all joking and smiling This chick is clinging on to me, sobbing, and sighing Saying she didn't mean to diss me earlier, and she crying But it's real and it's on and caps is getting peeled So I hugged her and used her body as a human shield, and She got hit, and now she's yelling (Don't leave me!) I told her I'd be right back, and the dumb bitch believed me! I squeezed through the back door and made my escape I ran and got my .38, I hope it's not too late! \"}, 'Final Thought (Skit)Lyrics': {'lyrics': \"*People chanting Eminem* *Eminem tears up a paper* *Footsteps* *Door open and slam shut* *More footsteps*  [Spoken: Slim Shady] I almost forgot You're comin' with me  *Gun cocking*  [Spoken: Eminem] Last one baby, let's go Last one baby, let's go Last one baby, let's go  *Eminem sighs*\"}, 'Encore / Curtains Down (Ft.\\xa050\\xa0Cent & Dr.\\xa0Dre)Lyrics': {'lyrics': \"[Intro: 50 Cent & Eminem] Sh-Sh-Sh, Shady! Aftermath! Haha! G-G-G-G, G-Unit! Haha!  [Chorus: Eminem & 50 Cent] 'Cause we came here to set this party off right Let’s bounce tonight And if they don’t let us in through the front We’ll come through the side 'Cause I don’t ever wanna leave the game Without at least saying goodbye So all my people on the left, all my people on the right Scream one last time  [Post-Chorus: Eminem] Get your ass up for the doctor, one more time Get your ass up for the doctor, come on now Here we go, cliff hanger, it's another club banger Got you hangin' on the edge of your seat, get on down  [Verse 1: Dr. Dre, Eminem, & Both] Time's up, game's over, you lose, I\\xa0win ’Bout to show these knuckleheads how to do this here Oh yeah, new year, next phase, begin Look who's got you goin' crazy again I'm a trend, I set one every time I'm in I go out, and just come back full circle again You a fad, that means you something that we already had But once you're gone, you don't come back (Oh!) Too bad you're off the map now, radar can't even find you We stay on the grind, you slip, we out-grind you You walk around mad, you let your anger blind you We walk around, just playin' the violin behind you Enough with all the pissin' and moanin', whining and bitchin' Sit and observe, listen, you'll learn if you pay attention Why ten multi-platinum albums later, three diamond Worldwide, we're on the charts with a bullet, and still climbin' \"}, 'We As AmericansLyrics': {'lyrics': \"[Intro] There's an intruder In my house He cut my phone line (911, emer-) Can't dial out (Shit!) I scream for police But I doubt They're gonna hear me (*gun cock*) When I shout *gunshot*  [Verse 1] A couple of cocktails'll send me to jail There's a couple of cops hot on my trail, but this time When I get pulled over there's a Doberman Pinscher And a pit bull in the seat, these pigs'll get bit foolin' with me Quit foolin' with me, bitch, you're gonna see No pistol in the seat, why it always Gotta be an issue when you're me in which you're gonna see In the long run, I'ma be the wrong one You wanna harass with this limo-tinted glass Flashin' that flashlight on my ass — where was you at Last night when them assholes ran up on my grass? Rapper slash actor, kiss the crack of my cracker slash ass They took away my right to bear arms What I'm 'posed to fight with, bare palms? Yeah, right! They comin' with bombs, I'm comin' with flare guns \"}, 'Love You More (Bonus Track)Lyrics': {'lyrics': \"[Intro] Still love me? Take this You ready? One, two, three!  [Chorus] The more you put me through The more it makes me wanna come back to you You say you hate me, I just love you more You don't want me, I just want you more I buy you flowers, you throw 'em at me I know it's sad but it's makin' me happy The more that you slap me, the more that it turns me on 'Cause you love me and I love you more  [Verse 1] It's sick, but who could ever predict we'd be doin' the same shit? We say “We do it for our baby”, but we don't We do it for us, it's lust 'cause neither one Of us trust each other, so we fuck, 'til we bust And we cuss each other out, we know what it's about, shout 'Til I throw you out the house, you throw me out the house I throw you on the couch, punch you in the mouth Fist fight 'til we turn this mother out Then apologize after, laughter, pain It's insane, we're back in the same chapter again And it's sad, but it's true: when I'm layin' here with you There ain't nothin' anyone could ever say or ever do, 'cause— \"}, 'Ricky Ticky Toc (Bonus Track)Lyrics': {'lyrics': '[Intro] Once you call my name out, things will never be the same They should\\'ve never let us get our foot in this game  [Verse] Ever since I was introduced to rap music I been missing a screw like Bishop in Juice, I could lose it At any moment, those who know me know it So they probably told to go with the flow just so that I don\\'t explode, and- have another episode Where I let it go as far as the one with Benzino did I\\'m waiting for that next beef, I\\'m cocked, locked and loaded I\\'m ready to go so bad I\\'m going bananas, my dick\\'s so hard Anna Nicole could use it to fucking pole vault with Oh shit! I mean when she was still bloated Before they cut her stomach open and lypo\\'d it (Heheheh!) Anybody I throw flames at gets a name It\\'s a game, \\'cause they know that they don\\'t spit the same It\\'s a shame what people do for 10 minutes of fame Every day it\\'s the same thing, people in this game Try to buddy-buddy us Just to get close enough to study us, everybody just wants To have something to do with that They all trying to get that stamp, they after that Shady/Aftermath money It\\'s like a monopoly They probably just now finally understand \"How to Rob\" fully 50 Cent was like a fucking jackpot for me And Dre, it\\'s like we hit the fucking lottery And the damn slot machine at the same time as each other Why the fuck you think we ride like we brothers? When we rhyme with each other, in time we discovered That we had more in common than we thought with each other Both robbed of our mothers, our fathers ain\\'t want us What was wrong with us, was it our fault? \\'Cause we started thinking God doesn\\'t love us Two odd motherfuckers who just happened to meet at the right time What a coincidence, \\'cause when 50 got shot up in Jamaica Queens, I still remember the call up at Chung King \\'cause Big L had just got popped just a month before If 50 lives he\\'s getting dropped from Columbia Two years later, me and Doc had to come, and, uhh- Operate, that\\'s when he popped up at number one And we ain\\'t never gonna stop if you wondering Even if I\\'m under the gun You ain\\'t got to agree all the time with me or see eye-to-eye There\\'ll always be animosity between you and I But see the difference is, if it is, I could give a shit I\\'m still gonna conduct motherfucking business as usual Egos aside \\'fore I bruise \\'em all Swallow your pride \\'fore I step on it with shoes you call Nikes, Earthlings, how do you like these? You gotta love \\'em, look at the bottom of \\'em, they\\'re like cleats Stomping, I been romping Since Tim Dog was hollering \"Fuck Compton\" I was whiling, freestyling Back when they were still making Maxell cassettes I wasn\\'t even rap\\'s Elvis yet, that tells us that Any doubts in your head, that seals the shit Ricky ticky toc, ticky ticky toc Still with the Diggy Diggy Doc, Diggy Diggy Doc And ya\\' don\\'t stop'}}\n"
     ]
    }
   ],
   "source": [
    "# to do: need to clean up song titles, need to clean up lyrics (get rid of [verse 1], etc.) \n",
    "# basically just clean it all up and then once its all saved, move on to sentiment analysis for each individual song, before\n",
    "# then moving on to average sentiment for each album. Then, I think I will just stick to the theme of family and compare it\n",
    "# to trend and values of sentiment\n",
    "# final project will be something along the lines of how sentiment and family evolve as themes in eminem's discography\n",
    "\n",
    "print(eminem_lyrics['Encore'])"
   ]
  },
  {
   "cell_type": "code",
   "execution_count": 6,
   "id": "0b30b6ab",
   "metadata": {},
   "outputs": [
    {
     "name": "stdout",
     "output_type": "stream",
     "text": [
      "[Skit: Kimberly Gill, Devin Scillian, Slim Shady & Eminem]\n",
      "Aight, now I'm 'bout to show you somethin'\n",
      "What?\n",
      "(Shh, watch) Now to breaking news, and it turns on this week in music\n",
      "Detroit rapper Eminem, in a stunning move, has released an album (What? Shh)\n",
      "In which he is actually trying to cancel himself\n",
      "Man, what the fuck?\n",
      "And right now, at this hour, we got protestors lining the streets downtown\n",
      "Where Kimberly Gill is standing by, KG\n",
      "Hi, Devin, we are outside Eminem's Mom's Spaghetti (Man, this some bullshit)\n",
      "Where, as you can see behind me\n",
      "People are definitely upset over Eminem's new album\n",
      "And are actually calling to boycott the rapper (Haha)\n",
      "For songs that include insensitive comments about little people\n",
      "People with mental disabilities, transgender rights and the first amendment (Hahahaha, haha)\n"
     ]
    }
   ],
   "source": [
    "lyrics_page = requests.get('https://genius.com/Eminem-breaking-news-skit-lyrics')\n",
    "lyrics_html = lyrics_page.text\n",
    "d = BeautifulSoup(lyrics_html, 'html.parser')\n",
    "ly = d.find('div', class_=\"Lyrics__Container-sc-1ynbvzw-1 kUgSbL\")\n",
    "for br in ly.find_all('br'):\n",
    "    br.replace_with('\\n')\n",
    "print(ly.text)"
   ]
  },
  {
   "cell_type": "code",
   "execution_count": null,
   "id": "b6a7eab3",
   "metadata": {},
   "outputs": [],
   "source": []
  }
 ],
 "metadata": {
  "kernelspec": {
   "display_name": "Python 3 (ipykernel)",
   "language": "python",
   "name": "python3"
  },
  "language_info": {
   "codemirror_mode": {
    "name": "ipython",
    "version": 3
   },
   "file_extension": ".py",
   "mimetype": "text/x-python",
   "name": "python",
   "nbconvert_exporter": "python",
   "pygments_lexer": "ipython3",
   "version": "3.11.6"
  }
 },
 "nbformat": 4,
 "nbformat_minor": 5
}
