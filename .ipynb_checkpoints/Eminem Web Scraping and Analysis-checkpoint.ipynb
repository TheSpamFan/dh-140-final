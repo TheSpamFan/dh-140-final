{
 "cells": [
  {
   "cell_type": "code",
   "execution_count": 7,
   "id": "20431518",
   "metadata": {},
   "outputs": [],
   "source": [
    "# imports\n",
    "import requests\n",
    "from bs4 import BeautifulSoup\n",
    "import pandas as pd"
   ]
  },
  {
   "cell_type": "code",
   "execution_count": 8,
   "id": "48014010",
   "metadata": {},
   "outputs": [
    {
     "data": {
      "text/plain": [
       "<Response [403]>"
      ]
     },
     "execution_count": 8,
     "metadata": {},
     "output_type": "execute_result"
    }
   ],
   "source": [
    "response = requests.get(\"https://genius.com/artists/albums?for_artist_page=45&id=Eminem\", headers=headers)\n",
    "response"
   ]
  },
  {
   "cell_type": "code",
   "execution_count": 9,
   "id": "996ac6bf",
   "metadata": {},
   "outputs": [
    {
     "name": "stdout",
     "output_type": "stream",
     "text": [
      "[]\n"
     ]
    }
   ],
   "source": [
    "html_string = response.text\n",
    "document = BeautifulSoup(html_string, 'html.parser')\n",
    "album_list = document.find_all(\"a\", class_=\"album_link\")\n",
    "albums = [\"The Slim Shady LP\", \"The Marshall Mathers LP\", \"The Eminem Show\",\n",
    "         \"Encore\", \"Eminem Presents the Re-Up\", \"Relapse\", \"Recovery\", \"The Marshall Mathers LP 2\",\n",
    "         \"Revival\", \"Kamikaze\", \"Music to Be Murdered By\", \"Music to Be Murdered By: Side B\", \n",
    "          \"The Death of Slim Shady (Coup De Grâce)\"]\n",
    "album_links = []\n",
    "for a in album_list:\n",
    "  if a.text in albums:\n",
    "    album_links.append((a.text, a['href'])) # album links is (album name, link)\n",
    "    \n",
    "print(album_list)"
   ]
  },
  {
   "cell_type": "code",
   "execution_count": 43,
   "id": "25a5cf23",
   "metadata": {},
   "outputs": [],
   "source": [
    "eminem_lyrics = {}\n",
    "\n",
    "for album in album_links:\n",
    "  eminem_lyrics[album[0]] = {}     # each album has a dictionary\n",
    "  album_page = requests.get(\"https://genius.com\" + album[1])\n",
    "  album_html = album_page.text\n",
    "  doc = BeautifulSoup(album_html, 'html.parser')\n",
    "  songs_list = doc.find_all(\"div\", class_=\"chart_row-content\")\n",
    "  \n",
    "  for s in songs_list:\n",
    "    a = s.find('a')\n",
    "    s_title = a.find('h3').get_text(strip=True)\n",
    "    eminem_lyrics[album[0]][s_title] = {}\n",
    "    \n",
    "    s_link = a['href']\n",
    "    # now use the link s_link to go to the lyrics page\n",
    "    lyrics_page = requests.get(s_link)\n",
    "    lyrics_html = lyrics_page.text\n",
    "    d = BeautifulSoup(lyrics_html, 'html.parser')\n",
    "    ly = d.find('div', class_=\"Lyrics__Container-sc-1ynbvzw-1 kUgSbL\")\n",
    "    for br in ly.find_all('br'):\n",
    "      br.replace_with(' ')\n",
    "    eminem_lyrics[album[0]][s_title]['lyrics'] = ly.text"
   ]
  },
  {
   "cell_type": "code",
   "execution_count": 44,
   "id": "52072cbc",
   "metadata": {},
   "outputs": [
    {
     "ename": "KeyError",
     "evalue": "'Encore'",
     "output_type": "error",
     "traceback": [
      "\u001b[0;31m---------------------------------------------------------------------------\u001b[0m",
      "\u001b[0;31mKeyError\u001b[0m                                  Traceback (most recent call last)",
      "Cell \u001b[0;32mIn[44], line 7\u001b[0m\n\u001b[1;32m      1\u001b[0m \u001b[38;5;66;03m# to do: need to clean up song titles, need to clean up lyrics (get rid of [verse 1], etc.) \u001b[39;00m\n\u001b[1;32m      2\u001b[0m \u001b[38;5;66;03m# basically just clean it all up and then once its all saved, move on to sentiment analysis for each individual song, before\u001b[39;00m\n\u001b[1;32m      3\u001b[0m \u001b[38;5;66;03m# then moving on to average sentiment for each album. Then, I think I will just stick to the theme of family and compare it\u001b[39;00m\n\u001b[1;32m      4\u001b[0m \u001b[38;5;66;03m# to trend and values of sentiment\u001b[39;00m\n\u001b[1;32m      5\u001b[0m \u001b[38;5;66;03m# final project will be something along the lines of how sentiment and family evolve as themes in eminem's discography\u001b[39;00m\n\u001b[0;32m----> 7\u001b[0m \u001b[38;5;28mprint\u001b[39m(\u001b[43meminem_lyrics\u001b[49m\u001b[43m[\u001b[49m\u001b[38;5;124;43m'\u001b[39;49m\u001b[38;5;124;43mEncore\u001b[39;49m\u001b[38;5;124;43m'\u001b[39;49m\u001b[43m]\u001b[49m)\n",
      "\u001b[0;31mKeyError\u001b[0m: 'Encore'"
     ]
    }
   ],
   "source": [
    "# to do: need to clean up song titles, need to clean up lyrics (get rid of [verse 1], etc.) \n",
    "# basically just clean it all up and then once its all saved, move on to sentiment analysis for each individual song, before\n",
    "# then moving on to average sentiment for each album. Then, I think I will just stick to the theme of family and compare it\n",
    "# to trend and values of sentiment\n",
    "# final project will be something along the lines of how sentiment and family evolve as themes in eminem's discography\n",
    "\n",
    "print(eminem_lyrics['Encore'])"
   ]
  },
  {
   "cell_type": "code",
   "execution_count": null,
   "id": "641938f3",
   "metadata": {},
   "outputs": [],
   "source": [
    "lyrics_page = requests.get('https://genius.com/Eminem-breaking-news-skit-lyrics')\n",
    "lyrics_html = lyrics_page.text\n",
    "d = BeautifulSoup(lyrics_html, 'html.parser')\n",
    "ly = d.find('div', class_=\"Lyrics__Container-sc-1ynbvzw-1 kUgSbL\")\n",
    "for br in ly.find_all('br'):\n",
    "    br.replace_with('\\n')\n",
    "print(ly.text)"
   ]
  },
  {
   "cell_type": "code",
   "execution_count": null,
   "id": "2b2cd4e3",
   "metadata": {},
   "outputs": [],
   "source": []
  }
 ],
 "metadata": {
  "kernelspec": {
   "display_name": "Python 3 (ipykernel)",
   "language": "python",
   "name": "python3"
  },
  "language_info": {
   "codemirror_mode": {
    "name": "ipython",
    "version": 3
   },
   "file_extension": ".py",
   "mimetype": "text/x-python",
   "name": "python",
   "nbconvert_exporter": "python",
   "pygments_lexer": "ipython3",
   "version": "3.11.6"
  }
 },
 "nbformat": 4,
 "nbformat_minor": 5
}
